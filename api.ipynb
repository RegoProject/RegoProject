{
 "cells": [
  {
   "cell_type": "code",
   "execution_count": 7,
   "id": "cb4bed5b",
   "metadata": {
    "ExecuteTime": {
     "end_time": "2023-10-21T05:20:38.207799Z",
     "start_time": "2023-10-21T05:20:38.047663Z"
    },
    "collapsed": true
   },
   "outputs": [
    {
     "data": {
      "text/plain": [
       "ResNet(\n",
       "  (conv1): Conv2d(3, 64, kernel_size=(7, 7), stride=(2, 2), padding=(3, 3), bias=False)\n",
       "  (bn1): BatchNorm2d(64, eps=1e-05, momentum=0.1, affine=True, track_running_stats=True)\n",
       "  (relu): ReLU(inplace=True)\n",
       "  (maxpool): MaxPool2d(kernel_size=3, stride=2, padding=1, dilation=1, ceil_mode=False)\n",
       "  (layer1): Sequential(\n",
       "    (0): BasicBlock(\n",
       "      (conv1): Conv2d(64, 64, kernel_size=(3, 3), stride=(1, 1), padding=(1, 1), bias=False)\n",
       "      (bn1): BatchNorm2d(64, eps=1e-05, momentum=0.1, affine=True, track_running_stats=True)\n",
       "      (relu): ReLU(inplace=True)\n",
       "      (conv2): Conv2d(64, 64, kernel_size=(3, 3), stride=(1, 1), padding=(1, 1), bias=False)\n",
       "      (bn2): BatchNorm2d(64, eps=1e-05, momentum=0.1, affine=True, track_running_stats=True)\n",
       "    )\n",
       "    (1): BasicBlock(\n",
       "      (conv1): Conv2d(64, 64, kernel_size=(3, 3), stride=(1, 1), padding=(1, 1), bias=False)\n",
       "      (bn1): BatchNorm2d(64, eps=1e-05, momentum=0.1, affine=True, track_running_stats=True)\n",
       "      (relu): ReLU(inplace=True)\n",
       "      (conv2): Conv2d(64, 64, kernel_size=(3, 3), stride=(1, 1), padding=(1, 1), bias=False)\n",
       "      (bn2): BatchNorm2d(64, eps=1e-05, momentum=0.1, affine=True, track_running_stats=True)\n",
       "    )\n",
       "  )\n",
       "  (layer2): Sequential(\n",
       "    (0): BasicBlock(\n",
       "      (conv1): Conv2d(64, 128, kernel_size=(3, 3), stride=(2, 2), padding=(1, 1), bias=False)\n",
       "      (bn1): BatchNorm2d(128, eps=1e-05, momentum=0.1, affine=True, track_running_stats=True)\n",
       "      (relu): ReLU(inplace=True)\n",
       "      (conv2): Conv2d(128, 128, kernel_size=(3, 3), stride=(1, 1), padding=(1, 1), bias=False)\n",
       "      (bn2): BatchNorm2d(128, eps=1e-05, momentum=0.1, affine=True, track_running_stats=True)\n",
       "      (downsample): Sequential(\n",
       "        (0): Conv2d(64, 128, kernel_size=(1, 1), stride=(2, 2), bias=False)\n",
       "        (1): BatchNorm2d(128, eps=1e-05, momentum=0.1, affine=True, track_running_stats=True)\n",
       "      )\n",
       "    )\n",
       "    (1): BasicBlock(\n",
       "      (conv1): Conv2d(128, 128, kernel_size=(3, 3), stride=(1, 1), padding=(1, 1), bias=False)\n",
       "      (bn1): BatchNorm2d(128, eps=1e-05, momentum=0.1, affine=True, track_running_stats=True)\n",
       "      (relu): ReLU(inplace=True)\n",
       "      (conv2): Conv2d(128, 128, kernel_size=(3, 3), stride=(1, 1), padding=(1, 1), bias=False)\n",
       "      (bn2): BatchNorm2d(128, eps=1e-05, momentum=0.1, affine=True, track_running_stats=True)\n",
       "    )\n",
       "  )\n",
       "  (layer3): Sequential(\n",
       "    (0): BasicBlock(\n",
       "      (conv1): Conv2d(128, 256, kernel_size=(3, 3), stride=(2, 2), padding=(1, 1), bias=False)\n",
       "      (bn1): BatchNorm2d(256, eps=1e-05, momentum=0.1, affine=True, track_running_stats=True)\n",
       "      (relu): ReLU(inplace=True)\n",
       "      (conv2): Conv2d(256, 256, kernel_size=(3, 3), stride=(1, 1), padding=(1, 1), bias=False)\n",
       "      (bn2): BatchNorm2d(256, eps=1e-05, momentum=0.1, affine=True, track_running_stats=True)\n",
       "      (downsample): Sequential(\n",
       "        (0): Conv2d(128, 256, kernel_size=(1, 1), stride=(2, 2), bias=False)\n",
       "        (1): BatchNorm2d(256, eps=1e-05, momentum=0.1, affine=True, track_running_stats=True)\n",
       "      )\n",
       "    )\n",
       "    (1): BasicBlock(\n",
       "      (conv1): Conv2d(256, 256, kernel_size=(3, 3), stride=(1, 1), padding=(1, 1), bias=False)\n",
       "      (bn1): BatchNorm2d(256, eps=1e-05, momentum=0.1, affine=True, track_running_stats=True)\n",
       "      (relu): ReLU(inplace=True)\n",
       "      (conv2): Conv2d(256, 256, kernel_size=(3, 3), stride=(1, 1), padding=(1, 1), bias=False)\n",
       "      (bn2): BatchNorm2d(256, eps=1e-05, momentum=0.1, affine=True, track_running_stats=True)\n",
       "    )\n",
       "  )\n",
       "  (layer4): Sequential(\n",
       "    (0): BasicBlock(\n",
       "      (conv1): Conv2d(256, 512, kernel_size=(3, 3), stride=(2, 2), padding=(1, 1), bias=False)\n",
       "      (bn1): BatchNorm2d(512, eps=1e-05, momentum=0.1, affine=True, track_running_stats=True)\n",
       "      (relu): ReLU(inplace=True)\n",
       "      (conv2): Conv2d(512, 512, kernel_size=(3, 3), stride=(1, 1), padding=(1, 1), bias=False)\n",
       "      (bn2): BatchNorm2d(512, eps=1e-05, momentum=0.1, affine=True, track_running_stats=True)\n",
       "      (downsample): Sequential(\n",
       "        (0): Conv2d(256, 512, kernel_size=(1, 1), stride=(2, 2), bias=False)\n",
       "        (1): BatchNorm2d(512, eps=1e-05, momentum=0.1, affine=True, track_running_stats=True)\n",
       "      )\n",
       "    )\n",
       "    (1): BasicBlock(\n",
       "      (conv1): Conv2d(512, 512, kernel_size=(3, 3), stride=(1, 1), padding=(1, 1), bias=False)\n",
       "      (bn1): BatchNorm2d(512, eps=1e-05, momentum=0.1, affine=True, track_running_stats=True)\n",
       "      (relu): ReLU(inplace=True)\n",
       "      (conv2): Conv2d(512, 512, kernel_size=(3, 3), stride=(1, 1), padding=(1, 1), bias=False)\n",
       "      (bn2): BatchNorm2d(512, eps=1e-05, momentum=0.1, affine=True, track_running_stats=True)\n",
       "    )\n",
       "  )\n",
       "  (avgpool): AdaptiveAvgPool2d(output_size=(1, 1))\n",
       "  (fc): Linear(in_features=512, out_features=4, bias=True)\n",
       ")"
      ]
     },
     "execution_count": 7,
     "metadata": {},
     "output_type": "execute_result"
    }
   ],
   "source": [
    "import torch\n",
    "from torchvision.models import resnet18\n",
    "\n",
    "# ResNet-18 모델 선언\n",
    "model = resnet18(num_classes = 4)\n",
    "\n",
    "# 가중치 불러오기\n",
    "weights_path = \"resnet18.pth\"  # 실제 가중치 파일의 경로로 변경하세요.\n",
    "model.load_state_dict(torch.load(weights_path,  map_location=torch.device('cpu')))\n",
    "\n",
    "# 모델을 평가 모드로 설정 (배치 정규화나 드롭아웃과 같은 레이어의 동작이 변경됩니다)\n",
    "model.eval()"
   ]
  },
  {
   "cell_type": "code",
   "execution_count": null,
   "id": "010bc2ae",
   "metadata": {
    "ExecuteTime": {
     "start_time": "2023-10-23T01:06:55.351Z"
    }
   },
   "outputs": [
    {
     "name": "stdout",
     "output_type": "stream",
     "text": [
      " * Serving Flask app \"__main__\" (lazy loading)\n",
      " * Environment: production\n",
      "\u001b[31m   WARNING: This is a development server. Do not use it in a production deployment.\u001b[0m\n",
      "\u001b[2m   Use a production WSGI server instead.\u001b[0m\n",
      " * Debug mode: off\n"
     ]
    },
    {
     "name": "stderr",
     "output_type": "stream",
     "text": [
      " * Running on all addresses.\n",
      "   WARNING: This is a development server. Do not use it in a production deployment.\n",
      " * Running on http://172.30.1.45:4000/ (Press CTRL+C to quit)\n",
      "127.0.0.1 - - [23/Oct/2023 10:07:06] \"POST /recommend HTTP/1.1\" 404 -\n"
     ]
    }
   ],
   "source": [
    "import io\n",
    "import torch\n",
    "from PIL import Image\n",
    "import json\n",
    "import flask\n",
    "from flask import Flask, request, jsonify\n",
    "import pickle\n",
    "from torchvision import transforms\n",
    "from torchvision.models import resnet18\n",
    "import base64\n",
    "\n",
    "app = Flask(__name__)\n",
    "\n",
    "\n",
    "## device 설정\n",
    "device = \"cuda\" if torch.cuda.is_available() else \"cpu\"\n",
    "\n",
    "## 모델 로딩\n",
    "model = resnet18(num_classes = 4)\n",
    "weights_path = \"resnet18.pth\"\n",
    "model.load_state_dict(torch.load(weights_path, map_location=torch.device('cpu')))\n",
    "model.eval()\n",
    "\n",
    "## 데이터 변환 모듈 로드 (검증 데이터 용으로)\n",
    "transform = transforms.Compose(\n",
    "    [\n",
    "        transforms.Resize([224, 224]),\n",
    "        transforms.ToTensor(),\n",
    "        transforms.Normalize(mean=[0.485, 0.456, 0.406],\n",
    "                             std=[0.229, 0.224, 0.225])\n",
    "    ]\n",
    ")\n",
    "\n",
    "@app.route('/predict', methods=['POST'])\n",
    "def predict():\n",
    "    if request.method == 'POST':\n",
    "        data = flask.request.data.decode('utf-8')\n",
    "        s = io.StringIO(data)\n",
    "        js = json.load(s)\n",
    "\n",
    "        label = js['label'] ## 사용자가 만든 음식 라벨\n",
    "        image = Image.open(io.BytesIO(base64.b64decode(js['image'].split(',')[-1]))).convert('RGB')\n",
    "        input_data = transform(image).unsqueeze(0).to(device)\n",
    "\n",
    "        outputs = model(input_data)\n",
    "        top4_op = outputs.topk(4, dim=-1)[1][0].numpy().tolist()\n",
    "        \n",
    "        ### 모델이 예측한것과 레시피의 음식이 일치하는지 확인 (음식 라벨과 모델 예측값이 일치하는지 확인)\n",
    "        # code 작성\n",
    "        \n",
    "        \n",
    "        result = {\n",
    "            \"results\" : top4_op\n",
    "        }\n",
    "\n",
    "        return flask.Response(\n",
    "            response=json.dumps(result, ensure_ascii=False, indent='\\t'),\n",
    "            status=200,\n",
    "            mimetype=\"application/json\"\n",
    "        )\n",
    "\n",
    "if __name__ == '__main__':\n",
    "    app.run(host='0.0.0.0', port=4000)"
   ]
  },
  {
   "cell_type": "code",
   "execution_count": 4,
   "id": "5f787886",
   "metadata": {
    "ExecuteTime": {
     "end_time": "2023-10-21T06:23:50.356729Z",
     "start_time": "2023-10-21T06:23:50.339156Z"
    }
   },
   "outputs": [],
   "source": [
    "import torch\n",
    "\n",
    "a = torch.randn([1, 5])\n",
    "top_a = a.topk(3, dim=-1)"
   ]
  },
  {
   "cell_type": "code",
   "execution_count": 6,
   "id": "1b1c8a0d",
   "metadata": {
    "ExecuteTime": {
     "end_time": "2023-10-21T06:23:58.410886Z",
     "start_time": "2023-10-21T06:23:58.394404Z"
    }
   },
   "outputs": [
    {
     "data": {
      "text/plain": [
       "tensor([[2.0953, 2.0667, 0.7237]])"
      ]
     },
     "execution_count": 6,
     "metadata": {},
     "output_type": "execute_result"
    }
   ],
   "source": [
    "top_a[0]"
   ]
  },
  {
   "cell_type": "code",
   "execution_count": 9,
   "id": "e8c63d5e",
   "metadata": {
    "ExecuteTime": {
     "end_time": "2023-10-21T06:25:18.489218Z",
     "start_time": "2023-10-21T06:25:18.483103Z"
    }
   },
   "outputs": [
    {
     "data": {
      "text/plain": [
       "tensor([2, 1, 0])"
      ]
     },
     "execution_count": 9,
     "metadata": {},
     "output_type": "execute_result"
    }
   ],
   "source": [
    "top_a[1][0]"
   ]
  },
  {
   "cell_type": "code",
   "execution_count": null,
   "id": "859ebcbd",
   "metadata": {
    "ExecuteTime": {
     "start_time": "2023-10-23T01:39:05.352Z"
    },
    "scrolled": true
   },
   "outputs": [
    {
     "name": "stdout",
     "output_type": "stream",
     "text": [
      " * Serving Flask app \"__main__\" (lazy loading)\n",
      " * Environment: production\n",
      "\u001b[31m   WARNING: This is a development server. Do not use it in a production deployment.\u001b[0m\n",
      "\u001b[2m   Use a production WSGI server instead.\u001b[0m\n",
      " * Debug mode: off\n"
     ]
    },
    {
     "name": "stderr",
     "output_type": "stream",
     "text": [
      " * Running on all addresses.\n",
      "   WARNING: This is a development server. Do not use it in a production deployment.\n",
      " * Running on http://172.30.1.45:5500/ (Press CTRL+C to quit)\n",
      "127.0.0.1 - - [23/Oct/2023 10:39:12] \"POST /recommend HTTP/1.1\" 200 -\n"
     ]
    }
   ],
   "source": [
    "import io\n",
    "import torch\n",
    "from PIL import Image\n",
    "import json\n",
    "import flask\n",
    "from flask import Flask, request, jsonify\n",
    "import pickle\n",
    "from torchvision import transforms\n",
    "from torchvision.models import resnet18\n",
    "import base64\n",
    "import pandas as pd\n",
    "\n",
    "app = Flask(__name__)\n",
    "\n",
    "\n",
    "## device 설정\n",
    "device = \"cuda\" if torch.cuda.is_available() else \"cpu\"\n",
    "\n",
    "## 모델 로딩\n",
    "model = resnet18(num_classes = 4)\n",
    "weights_path = \"resnet18.pth\"\n",
    "model.load_state_dict(torch.load(weights_path, map_location=torch.device('cpu')))\n",
    "model.eval()\n",
    "\n",
    "## 데이터 변환 모듈 로드 (검증 데이터 용으로)\n",
    "transform = transforms.Compose(\n",
    "    [\n",
    "        transforms.Resize([224, 224]),\n",
    "        transforms.ToTensor(),\n",
    "        transforms.Normalize(mean=[0.485, 0.456, 0.406],\n",
    "                             std=[0.229, 0.224, 0.225])\n",
    "    ]\n",
    ")\n",
    "\n",
    "@app.route('/predict', methods=['POST'])\n",
    "def predict():\n",
    "    if request.method == 'POST':\n",
    "        data = flask.request.data.decode('utf-8')\n",
    "        s = io.StringIO(data)\n",
    "        js = json.load(s)\n",
    "\n",
    "        label = js['label'] ## 사용자가 만든 음식 라벨\n",
    "        image = Image.open(io.BytesIO(base64.b64decode(js['image'].split(',')[-1]))).convert('RGB')\n",
    "        input_data = transform(image).unsqueeze(0).to(device)\n",
    "\n",
    "        outputs = model(input_data)\n",
    "        top4_op = outputs.topk(4, dim=-1)[1][0].numpy().tolist()\n",
    "        \n",
    "        ### 모델이 예측한것과 레시피의 음식이 일치하는지 확인 (음식 라벨과 모델 예측값이 일치하는지 확인)\n",
    "        # code 작성\n",
    "        \n",
    "        \n",
    "        result = {\n",
    "            \"results\" : top4_op\n",
    "        }\n",
    "\n",
    "        return flask.Response(\n",
    "            response=json.dumps(result, ensure_ascii=False, indent='\\t'),\n",
    "            status=200,\n",
    "            mimetype=\"application/json\"\n",
    "        )\n",
    "\n",
    "    \n",
    "# 레시피 추천 api\n",
    "import ast\n",
    "\n",
    "# 메뉴와 재료 가져오기\n",
    "\n",
    "df = pd.read_csv('recipe.csv', encoding='euc-kr')\n",
    "df.head()\n",
    "\n",
    "cook_list = []\n",
    "ingredients = []\n",
    "all_ingredients = {} \n",
    "for idx, row in df.iterrows():\n",
    "    cook_list.append(row['메뉴'])\n",
    "    ingredient_map = {}\n",
    "    for val in ast.literal_eval(row['재료']):\n",
    "        ingredient_map[val] = 1\n",
    "        all_ingredients[val] = 1\n",
    "    ingredients.append(ingredient_map)\n",
    "\n",
    "# 재료의 카테고리 번호를 저장 (중복X)\n",
    "category_index = {} \n",
    "for idx, val in enumerate(sorted(all_ingredients.keys())):\n",
    "    category_index[val] = idx\n",
    "\n",
    "# 넘파이 어레이로 바꿔줌\n",
    "import numpy as np\n",
    "from sklearn.metrics.pairwise import cosine_similarity\n",
    "\n",
    "matrix = []\n",
    "for ingred_map in ingredients:\n",
    "    tmp = []\n",
    "    for val in ingred_map.keys(): \n",
    "        tmp.append(category_index[val])\n",
    "    matrix.append(tmp)\n",
    "\n",
    "# 0, 1 행렬로 변환\n",
    "from sklearn.preprocessing import MultiLabelBinarizer\n",
    "\n",
    "mlb = MultiLabelBinarizer()\n",
    "multi_hot_matrix = mlb.fit_transform(matrix)\n",
    "\n",
    "\n",
    "\n",
    "@app.route('/recommend', methods=['POST'])\n",
    "def recommend():\n",
    "    if request.method == 'POST':\n",
    "        data = flask.request.data.decode('utf-8')\n",
    "        s = io.StringIO(data)\n",
    "        js = json.load(s)\n",
    "        \n",
    "        ing = js['user_ing']\n",
    "        \n",
    "        all_ing_len = len(list(all_ingredients.keys()))\n",
    "        \n",
    "        user_matrix = [0 for i in range(all_ing_len)]\n",
    "        for i in ing:\n",
    "            user_matrix[i]=1\n",
    "        \n",
    "        similarity_scores = cosine_similarity([user_matrix], multi_hot_matrix)[0]\n",
    "        \n",
    "        idxs = np.argsort(similarity_scores)[::-1]\n",
    "\n",
    "        ## 상위 5개 점수\n",
    "        top5_scores = similarity_scores[idxs][:5]\n",
    "        top5_idxs = idxs[:5] ## 상위 5개 인덱스 번호\n",
    "        top5_recipe = [] ## 상위 5개 매칭 레시피\n",
    "\n",
    "        for id in top5_idxs:\n",
    "            top5_recipe.append(cook_list[id])\n",
    "        \n",
    "        result = {\n",
    "            \"recipe\" : top5_recipe\n",
    "        }\n",
    "        \n",
    "        return flask.Response(\n",
    "            response=json.dumps(result, ensure_ascii=False, indent='\\t'),\n",
    "            status=200,\n",
    "            mimetype=\"application/json\"\n",
    "        )\n",
    "\n",
    "if __name__ == '__main__':\n",
    "    app.run(host='0.0.0.0', port=4000)"
   ]
  },
  {
   "cell_type": "code",
   "execution_count": 1,
   "id": "90735979",
   "metadata": {
    "ExecuteTime": {
     "end_time": "2023-10-21T07:24:50.356309Z",
     "start_time": "2023-10-21T07:24:50.352795Z"
    }
   },
   "outputs": [],
   "source": [
    "user_matrix = [0 for i in range(3)]"
   ]
  },
  {
   "cell_type": "code",
   "execution_count": 4,
   "id": "bfc3e94f",
   "metadata": {
    "ExecuteTime": {
     "end_time": "2023-10-21T07:25:19.999366Z",
     "start_time": "2023-10-21T07:25:19.990960Z"
    }
   },
   "outputs": [
    {
     "data": {
      "text/plain": [
       "[0, 1, 0]"
      ]
     },
     "execution_count": 4,
     "metadata": {},
     "output_type": "execute_result"
    }
   ],
   "source": [
    "user_matrix[1]=1\n",
    "user_matrix"
   ]
  },
  {
   "cell_type": "code",
   "execution_count": 4,
   "id": "96587240",
   "metadata": {
    "ExecuteTime": {
     "end_time": "2023-10-21T07:28:09.215164Z",
     "start_time": "2023-10-21T07:28:09.198346Z"
    }
   },
   "outputs": [],
   "source": [
    "ing = [118,\n",
    "  35,\n",
    "  57,\n",
    "  121,\n",
    "  91,\n",
    "  9,\n",
    "  172,\n",
    "  19,\n",
    "  158,\n",
    "  36,\n",
    "  99,\n",
    "  149,\n",
    "  109,\n",
    "  178,\n",
    "  44,\n",
    "  144,\n",
    "  82,\n",
    "  104,\n",
    "  114,\n",
    "  38,\n",
    "  155]"
   ]
  },
  {
   "cell_type": "code",
   "execution_count": 5,
   "id": "87566da6",
   "metadata": {
    "ExecuteTime": {
     "end_time": "2023-10-21T07:28:10.636216Z",
     "start_time": "2023-10-21T07:28:10.629364Z"
    }
   },
   "outputs": [],
   "source": [
    "all_ing_len = 180\n",
    "        \n",
    "user_matrix = [0 for i in range(all_ing_len)]\n",
    "for i in ing:\n",
    "    user_matrix[i]=1\n",
    "    "
   ]
  },
  {
   "cell_type": "code",
   "execution_count": 7,
   "id": "de117c33",
   "metadata": {
    "ExecuteTime": {
     "end_time": "2023-10-21T07:28:21.281248Z",
     "start_time": "2023-10-21T07:28:21.276458Z"
    }
   },
   "outputs": [
    {
     "data": {
      "text/plain": [
       "1"
      ]
     },
     "execution_count": 7,
     "metadata": {},
     "output_type": "execute_result"
    }
   ],
   "source": [
    "user_matrix[118]"
   ]
  },
  {
   "cell_type": "code",
   "execution_count": null,
   "id": "5ed2fb2e",
   "metadata": {},
   "outputs": [],
   "source": []
  }
 ],
 "metadata": {
  "kernelspec": {
   "display_name": "Python 3 (ipykernel)",
   "language": "python",
   "name": "python3"
  },
  "language_info": {
   "codemirror_mode": {
    "name": "ipython",
    "version": 3
   },
   "file_extension": ".py",
   "mimetype": "text/x-python",
   "name": "python",
   "nbconvert_exporter": "python",
   "pygments_lexer": "ipython3",
   "version": "3.9.13"
  },
  "toc": {
   "base_numbering": 1,
   "nav_menu": {},
   "number_sections": true,
   "sideBar": true,
   "skip_h1_title": false,
   "title_cell": "Table of Contents",
   "title_sidebar": "Contents",
   "toc_cell": false,
   "toc_position": {},
   "toc_section_display": true,
   "toc_window_display": false
  },
  "varInspector": {
   "cols": {
    "lenName": 16,
    "lenType": 16,
    "lenVar": 40
   },
   "kernels_config": {
    "python": {
     "delete_cmd_postfix": "",
     "delete_cmd_prefix": "del ",
     "library": "var_list.py",
     "varRefreshCmd": "print(var_dic_list())"
    },
    "r": {
     "delete_cmd_postfix": ") ",
     "delete_cmd_prefix": "rm(",
     "library": "var_list.r",
     "varRefreshCmd": "cat(var_dic_list()) "
    }
   },
   "types_to_exclude": [
    "module",
    "function",
    "builtin_function_or_method",
    "instance",
    "_Feature"
   ],
   "window_display": false
  }
 },
 "nbformat": 4,
 "nbformat_minor": 5
}
