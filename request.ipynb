{
 "cells": [
  {
   "cell_type": "code",
   "execution_count": 8,
   "id": "1c2a0185",
   "metadata": {
    "ExecuteTime": {
     "end_time": "2023-10-23T01:39:12.452381Z",
     "start_time": "2023-10-23T01:39:10.408746Z"
    }
   },
   "outputs": [],
   "source": [
    "import io\n",
    "import base64\n",
    "import requests\n",
    "import json\n",
    "from PIL import Image\n",
    "\n",
    "\n",
    "def tobase64(img):\n",
    "    buffered = io.BytesIO()\n",
    "    img.save(buffered, format=str(img.format).upper())\n",
    "    image_byte = base64.b64encode(buffered.getvalue())\n",
    "    img_str = image_byte.decode('utf-8')\n",
    "\n",
    "    return img_str\n",
    "\n",
    "with open(\"0.jpg\", \"rb\")as image_file:\n",
    "    base64_str = base64.b64encode(image_file.read()).decode('utf-8')\n",
    "\n",
    "label = \"고추장찌개\"\n",
    "\n",
    "headers = {'Content-Type': 'application/json'}\n",
    "body = {\n",
    "    'user_ing': [118,\n",
    "  35,\n",
    "  57,\n",
    "  121,\n",
    "  91,\n",
    "  9,\n",
    "  172,\n",
    "  19,\n",
    "  158,\n",
    "  36,\n",
    "  99,\n",
    "  149,\n",
    "  109,\n",
    "  178,\n",
    "  44,\n",
    "  144,\n",
    "  82,\n",
    "  104,\n",
    "  114,\n",
    "  38,\n",
    "  155],\n",
    "}\n",
    "url = f\"http://localhost:4000/recommend\"\n",
    "\n",
    "req = requests.post(url=url,\n",
    "                    headers=headers,\n",
    "                    data=json.dumps(body))"
   ]
  },
  {
   "cell_type": "code",
   "execution_count": 4,
   "id": "a0371d2b",
   "metadata": {
    "ExecuteTime": {
     "end_time": "2023-10-23T01:07:31.503134Z",
     "start_time": "2023-10-23T01:07:31.495135Z"
    }
   },
   "outputs": [
    {
     "data": {
      "text/plain": [
       "<Response [200]>"
      ]
     },
     "execution_count": 4,
     "metadata": {},
     "output_type": "execute_result"
    }
   ],
   "source": [
    "req"
   ]
  },
  {
   "cell_type": "code",
   "execution_count": 9,
   "id": "fbd8dcfc",
   "metadata": {
    "ExecuteTime": {
     "end_time": "2023-10-23T01:39:16.174447Z",
     "start_time": "2023-10-23T01:39:16.159450Z"
    }
   },
   "outputs": [
    {
     "data": {
      "text/plain": [
       "{'recipe': ['고추전', '도토리묵', '굴순두부찌개', '간장 가지덮밥', '감자북엇국']}"
      ]
     },
     "execution_count": 9,
     "metadata": {},
     "output_type": "execute_result"
    }
   ],
   "source": [
    "req.json()"
   ]
  },
  {
   "cell_type": "code",
   "execution_count": 16,
   "id": "33eec937",
   "metadata": {
    "ExecuteTime": {
     "end_time": "2023-10-21T05:54:50.673638Z",
     "start_time": "2023-10-21T05:54:50.659533Z"
    }
   },
   "outputs": [
    {
     "data": {
      "text/plain": [
       "'<!DOCTYPE HTML PUBLIC \"-//W3C//DTD HTML 3.2 Final//EN\">\\n<title>400 Bad Request</title>\\n<h1>Bad Request</h1>\\n<p>The browser (or proxy) sent a request that this server could not understand.</p>\\n'"
      ]
     },
     "execution_count": 16,
     "metadata": {},
     "output_type": "execute_result"
    }
   ],
   "source": [
    "req.text"
   ]
  },
  {
   "cell_type": "code",
   "execution_count": 25,
   "id": "83d2bff0",
   "metadata": {
    "ExecuteTime": {
     "end_time": "2023-10-21T05:58:27.072525Z",
     "start_time": "2023-10-21T05:58:27.056981Z"
    }
   },
   "outputs": [
    {
     "data": {
      "text/plain": [
       "'{\"image\": \"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\", \"label\": \"label\"}'"
      ]
     },
     "execution_count": 25,
     "metadata": {},
     "output_type": "execute_result"
    }
   ],
   "source": [
    "json.dumps(body)"
   ]
  },
  {
   "cell_type": "code",
   "execution_count": 50,
   "id": "8b7972c3",
   "metadata": {
    "ExecuteTime": {
     "end_time": "2023-10-21T07:14:38.529691Z",
     "start_time": "2023-10-21T07:14:38.517723Z"
    }
   },
   "outputs": [
    {
     "data": {
      "text/plain": [
       "21"
      ]
     },
     "execution_count": 50,
     "metadata": {},
     "output_type": "execute_result"
    }
   ],
   "source": [
    "len([118,\n",
    "  35,\n",
    "  57,\n",
    "  121,\n",
    "  91,\n",
    "  9,\n",
    "  172,\n",
    "  19,\n",
    "  158,\n",
    "  36,\n",
    "  99,\n",
    "  149,\n",
    "  109,\n",
    "  178,\n",
    "  44,\n",
    "  144,\n",
    "  82,\n",
    "  104,\n",
    "  114,\n",
    "  38,\n",
    "  155])"
   ]
  },
  {
   "cell_type": "code",
   "execution_count": null,
   "id": "59d64cb1",
   "metadata": {},
   "outputs": [],
   "source": []
  }
 ],
 "metadata": {
  "kernelspec": {
   "display_name": "Python 3 (ipykernel)",
   "language": "python",
   "name": "python3"
  },
  "language_info": {
   "codemirror_mode": {
    "name": "ipython",
    "version": 3
   },
   "file_extension": ".py",
   "mimetype": "text/x-python",
   "name": "python",
   "nbconvert_exporter": "python",
   "pygments_lexer": "ipython3",
   "version": "3.9.13"
  },
  "toc": {
   "base_numbering": 1,
   "nav_menu": {},
   "number_sections": true,
   "sideBar": true,
   "skip_h1_title": false,
   "title_cell": "Table of Contents",
   "title_sidebar": "Contents",
   "toc_cell": false,
   "toc_position": {},
   "toc_section_display": true,
   "toc_window_display": false
  },
  "varInspector": {
   "cols": {
    "lenName": 16,
    "lenType": 16,
    "lenVar": 40
   },
   "kernels_config": {
    "python": {
     "delete_cmd_postfix": "",
     "delete_cmd_prefix": "del ",
     "library": "var_list.py",
     "varRefreshCmd": "print(var_dic_list())"
    },
    "r": {
     "delete_cmd_postfix": ") ",
     "delete_cmd_prefix": "rm(",
     "library": "var_list.r",
     "varRefreshCmd": "cat(var_dic_list()) "
    }
   },
   "types_to_exclude": [
    "module",
    "function",
    "builtin_function_or_method",
    "instance",
    "_Feature"
   ],
   "window_display": false
  }
 },
 "nbformat": 4,
 "nbformat_minor": 5
}
