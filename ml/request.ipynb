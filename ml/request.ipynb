{
 "cells": [
  {
   "cell_type": "code",
   "execution_count": 13,
   "id": "a3f33fc8",
   "metadata": {
    "ExecuteTime": {
     "end_time": "2023-10-25T06:00:34.153594Z",
     "start_time": "2023-10-25T06:00:34.140650Z"
    }
   },
   "outputs": [],
   "source": [
    "import io\n",
    "import base64\n",
    "import requests\n",
    "import json\n",
    "from PIL import Image\n",
    "\n",
    "def tobase64(img):\n",
    "    buffered = io.BytesIO()\n",
    "    img.save(buffered, format=str(img.format).upper())\n",
    "    image_byte = base64.b64encode(buffered.getvalue())\n",
    "    img_str = image_byte.decode('utf-8')\n",
    "\n",
    "    return img_str"
   ]
  },
  {
   "cell_type": "code",
   "execution_count": 22,
   "id": "a38f63d5",
   "metadata": {
    "ExecuteTime": {
     "end_time": "2023-10-25T06:06:34.801636Z",
     "start_time": "2023-10-25T06:06:32.675704Z"
    }
   },
   "outputs": [
    {
     "data": {
      "text/plain": [
       "{'results': True}"
      ]
     },
     "execution_count": 22,
     "metadata": {},
     "output_type": "execute_result"
    }
   ],
   "source": [
    "\"\"\"success\"\"\"\n",
    "with open(\"0.jpg\", \"rb\")as image_file:\n",
    "    base64_str = base64.b64encode(image_file.read()).decode('utf-8')\n",
    "\n",
    "headers = {'Content-Type': 'application/json'}\n",
    "body={\n",
    "    'label' : \"김치 비빔 국수\",\n",
    "    'image' : base64_str\n",
    "}\n",
    "\n",
    "url = f\"http://localhost:5000/success\"\n",
    "\n",
    "req = requests.post(url=url,\n",
    "                    headers=headers,\n",
    "                    data=json.dumps(body))\n",
    "req.json()"
   ]
  },
  {
   "cell_type": "code",
   "execution_count": null,
   "id": "ef0f9930",
   "metadata": {
    "ExecuteTime": {
     "end_time": "2023-10-25T06:09:56.749866Z",
     "start_time": "2023-10-25T06:09:54.684276Z"
    }
   },
   "outputs": [],
   "source": [
    "\"\"\"recommend\"\"\"\n",
    "headers = {'Content-Type': 'application/json'}\n",
    "body = {\n",
    "    'user_ing': [106, 6, 34, 16, 149, 77, 109]\n",
    "}\n",
    "url = f\"http://localhost:5000/recommend\"\n",
    "\n",
    "req = requests.post(url=url,\n",
    "                    headers=headers,\n",
    "                    data=json.dumps(body))\n",
    "req.json()"
   ]
  },
  {
   "cell_type": "code",
   "execution_count": 39,
   "id": "4688b81c",
   "metadata": {
    "ExecuteTime": {
     "end_time": "2023-10-25T06:24:22.015625Z",
     "start_time": "2023-10-25T06:24:19.899483Z"
    }
   },
   "outputs": [
    {
     "data": {
      "text/plain": [
       "{'result': '파프리카'}"
      ]
     },
     "execution_count": 39,
     "metadata": {},
     "output_type": "execute_result"
    }
   ],
   "source": [
    "\"\"\"ing_predict\"\"\"\n",
    "with open(\"2.jpg\", \"rb\")as image_file:\n",
    "    base64_str = base64.b64encode(image_file.read()).decode('utf-8')\n",
    "headers = {'Content-Type': 'application/json'}\n",
    "body = {\n",
    "    'image' : base64_str\n",
    "}\n",
    "url = f\"http://localhost:5000/ing_predict\"\n",
    "\n",
    "req = requests.post(url=url,\n",
    "                    headers=headers,\n",
    "                    data=json.dumps(body))\n",
    "req.json()"
   ]
  }
 ],
 "metadata": {
  "kernelspec": {
   "display_name": "Python 3 (ipykernel)",
   "language": "python",
   "name": "python3"
  },
  "language_info": {
   "codemirror_mode": {
    "name": "ipython",
    "version": 3
   },
   "file_extension": ".py",
   "mimetype": "text/x-python",
   "name": "python",
   "nbconvert_exporter": "python",
   "pygments_lexer": "ipython3",
   "version": "3.9.13"
  },
  "toc": {
   "base_numbering": 1,
   "nav_menu": {},
   "number_sections": true,
   "sideBar": true,
   "skip_h1_title": false,
   "title_cell": "Table of Contents",
   "title_sidebar": "Contents",
   "toc_cell": false,
   "toc_position": {},
   "toc_section_display": true,
   "toc_window_display": false
  },
  "varInspector": {
   "cols": {
    "lenName": 16,
    "lenType": 16,
    "lenVar": 40
   },
   "kernels_config": {
    "python": {
     "delete_cmd_postfix": "",
     "delete_cmd_prefix": "del ",
     "library": "var_list.py",
     "varRefreshCmd": "print(var_dic_list())"
    },
    "r": {
     "delete_cmd_postfix": ") ",
     "delete_cmd_prefix": "rm(",
     "library": "var_list.r",
     "varRefreshCmd": "cat(var_dic_list()) "
    }
   },
   "types_to_exclude": [
    "module",
    "function",
    "builtin_function_or_method",
    "instance",
    "_Feature"
   ],
   "window_display": false
  }
 },
 "nbformat": 4,
 "nbformat_minor": 5
}
